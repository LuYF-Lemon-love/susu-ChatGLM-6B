{
 "cells": [
  {
   "cell_type": "code",
   "execution_count": 1,
   "id": "cc3f2ef6",
   "metadata": {},
   "outputs": [],
   "source": [
    "# model_deployment.ipynb\n",
    "#\n",
    "# created by LuYF-Lemon-love <luyanfeng_nlp@qq.com> on July 12, 2023\n",
    "#\n",
    "# 该脚本展示如何部署微调后的模型"
   ]
  },
  {
   "cell_type": "markdown",
   "id": "420e4b9b",
   "metadata": {},
   "source": [
    "## 导入第三方库"
   ]
  },
  {
   "cell_type": "code",
   "execution_count": 2,
   "id": "a8368766",
   "metadata": {},
   "outputs": [],
   "source": [
    "import torch\n",
    "import os\n",
    "from transformers import AutoConfig, AutoModel, AutoTokenizer"
   ]
  },
  {
   "cell_type": "markdown",
   "id": "f8f35c3e",
   "metadata": {},
   "source": [
    "## 导入 ChatGLM2-6B"
   ]
  },
  {
   "cell_type": "code",
   "execution_count": 3,
   "id": "ce7fc428",
   "metadata": {},
   "outputs": [],
   "source": [
    "# 载入Tokenizer\n",
    "tokenizer = AutoTokenizer.from_pretrained(\"THUDM/chatglm2-6b\", trust_remote_code=True)"
   ]
  },
  {
   "cell_type": "code",
   "execution_count": 4,
   "id": "56f02df3",
   "metadata": {},
   "outputs": [
    {
     "data": {
      "application/vnd.jupyter.widget-view+json": {
       "model_id": "317dd6b985044f1d81ca065f72a799ea",
       "version_major": 2,
       "version_minor": 0
      },
      "text/plain": [
       "Loading checkpoint shards:   0%|          | 0/7 [00:00<?, ?it/s]"
      ]
     },
     "metadata": {},
     "output_type": "display_data"
    },
    {
     "name": "stderr",
     "output_type": "stream",
     "text": [
      "Some weights of ChatGLMForConditionalGeneration were not initialized from the model checkpoint at THUDM/chatglm2-6b and are newly initialized: ['transformer.prefix_encoder.embedding.weight']\n",
      "You should probably TRAIN this model on a down-stream task to be able to use it for predictions and inference.\n"
     ]
    },
    {
     "data": {
      "text/plain": [
       "<All keys matched successfully>"
      ]
     },
     "execution_count": 4,
     "metadata": {},
     "output_type": "execute_result"
    }
   ],
   "source": [
    "CHECKPOINT_PATH='output/adgen-chatglm2-6b-pt-128-2e-2/checkpoint-3000'\n",
    "config = AutoConfig.from_pretrained(\"THUDM/chatglm2-6b\", trust_remote_code=True, pre_seq_len=128)\n",
    "model = AutoModel.from_pretrained(\"THUDM/chatglm2-6b\", config=config, trust_remote_code=True)\n",
    "prefix_state_dict = torch.load(os.path.join(CHECKPOINT_PATH, \"pytorch_model.bin\"))\n",
    "new_prefix_state_dict = {}\n",
    "for k, v in prefix_state_dict.items():\n",
    "    if k.startswith(\"transformer.prefix_encoder.\"):\n",
    "        new_prefix_state_dict[k[len(\"transformer.prefix_encoder.\"):]] = v\n",
    "model.transformer.prefix_encoder.load_state_dict(new_prefix_state_dict)"
   ]
  },
  {
   "cell_type": "code",
   "execution_count": 5,
   "id": "a79f779b",
   "metadata": {},
   "outputs": [
    {
     "name": "stdout",
     "output_type": "stream",
     "text": [
      "这款<UNK>长裤，采用了<UNK>的<UNK>设计，让裤身显得更加立体有型。同时，搭配了<UNK>的<UNK>，让裤身显得更加有层次感，也显得更加有气质。\n"
     ]
    }
   ],
   "source": [
    "# Comment out the following line if you don't use quantization\n",
    "model = model.quantize(4)\n",
    "model = model.cuda()\n",
    "model = model.eval()\n",
    "\n",
    "response, history = model.chat(tokenizer, \"你好\", history=[])\n",
    "print(response)"
   ]
  },
  {
   "cell_type": "code",
   "execution_count": 6,
   "id": "e8739162",
   "metadata": {},
   "outputs": [
    {
     "name": "stdout",
     "output_type": "stream",
     "text": [
      "想要在晚上睡得好的原因，就要从<UNK>开始，<UNK>时，就<UNK><UNK>，<UNK>时，就<UNK>，<UNK>时，就<UNK>，<UNK>时，就<UNK>，<UNK>时，就<UNK>，<UNK>时，就<UN\n"
     ]
    }
   ],
   "source": [
    "response, history = model.chat(tokenizer, \"晚上睡不着应该怎么办\", history=history)\n",
    "print(response)"
   ]
  },
  {
   "cell_type": "code",
   "execution_count": 7,
   "id": "af1e2535",
   "metadata": {},
   "outputs": [
    {
     "name": "stdout",
     "output_type": "stream",
     "text": [
      "这款<UNK>的牛仔长款外套，采用了<UNK>的<UNK>设计，让衣身显得更加有层次感，也显得更加有立体感。同时，搭配了<UNK>的<UNK>，让衣身显得更加有层次感，也显得更加有设计感。同时，还加入了刺绣的图案，让衣身更显浪漫有气质。\n"
     ]
    }
   ],
   "source": [
    "response, history = model.chat(tokenizer, \"类型#上衣*材质#牛仔布*颜色#白色*风格#简约*图案#刺绣*衣样式#外套*衣款式#破洞\", history=history)\n",
    "print(response)"
   ]
  },
  {
   "cell_type": "code",
   "execution_count": 8,
   "id": "541f9593",
   "metadata": {},
   "outputs": [
    {
     "name": "stdout",
     "output_type": "stream",
     "text": [
      "这款<UNK>的印花裙，在衣身上融入了经典的印花图案，让裙身更显文艺风。同时，还加入了拼接的撞色设计，让裙身更显个性，也显得更加有设计感。同时，还加入了压褶的裙摆设计，让裙身更显时尚。同时，衣身上还加入了<UNK>的<UNK>，让衣身更显别致，也显得更加有层次感。最后，还选择了圆领的设计，让衣身更显简约。\n"
     ]
    }
   ],
   "source": [
    "response, history = model.chat(tokenizer, \"类型#裙*版型#显瘦*风格#文艺*风格#简约*图案#印花*图案#撞色*裙下摆#压褶*裙长#连衣裙*裙领型#圆领\", history=history)\n",
    "print(response)"
   ]
  },
  {
   "cell_type": "code",
   "execution_count": 9,
   "id": "dd9d31df",
   "metadata": {},
   "outputs": [
    {
     "name": "stdout",
     "output_type": "stream",
     "text": [
      "这是一件<UNK>的<UNK>，是来自<UNK>的<UNK>，你也可以是<UNK>，你也可以是<UNK>，你也可以是<UNK>，你也可以是<UNK>，你也可以是<UNK>，你也可以是<UNK>，你也可以是<UNK>，你也可以是<UNK>，你也可以是<UNK>，你也可以是<UNK>，你也可以是<UNK>，你也可以是<UNK>，你也可以是<UNK>，你也可以是<UNK>，你也可以是<UNK>，你也可以是<UNK>，你也可以是<UNK>，你也可以是<UNK>，你也可以是<UNK>，你也可以是<UNK>，你也可以是<UNK>，你也可以是<UNK>，你也可以是<UNK>，你也可以是<UNK>，你也可以是<UNK>，你也可以是<UNK>，你也可以是<UNK>，你也可以是<UNK>，你也可以是<UNK>，你也可以是<UNK>，你也可以是<UNK>，你也可以是<UNK>。<UNK>的<UNK>，是来自<UNK>的<UNK>，你也可以是<UNK>，你也可以是<UNK>，你也可以是<UNK>，你也可以是<UNK>，你也可以是<UNK>，你也可以是<UNK>，你也可以是<UNK>，你也可以是<UNK>，你也可以是<UNK>，你也可以是<UNK>，你也可以是<UNK>，你也可以是<UNK>，你也可以是<UNK>，你也可以是<UNK>，你也可以是<UNK>，你也可以是<UNK>，你也可以是<UNK>，你也可以是<UNK>，你也可以是<UNK>，你也可以是<UNK>，你也可以是<UNK>，你也可以是<UNK>，你也可以是<UNK>，你也可以是<UNK>，你也可以是<UNK>，你也可以是<UNK>，你也可以是<UNK>，你也可以是<UNK>，你也可以是<UNK>，你也可以是<UNK>，你也可以是<UNK>，你也可以是<UNK>，你也可以是<UNK>，你也可以是<UNK>，你也可以是<UNK>，你也可以是<UNK>，你也可以是<UNK>，你也可以是<UNK>，你也可以是<UNK>，你也可以是<UNK>，你也可以是<UNK>，你也可以是<UNK>，你也可以是<UNK>，你也可以是<UNK>，你也可以是<UNK>，你也可以是<UNK>，你也可以是<UNK>，你也可以是<UNK>，你也可以是<UNK>，你也可以是<UNK>，你也可以是<UNK>，你也可以是<UNK>，你也可以是<UNK>，你也可以是<UNK>，你也可以是<UNK>，你也可以是<UNK>，你也可以是<UNK>。\n"
     ]
    }
   ],
   "source": [
    "response, history = model.chat(tokenizer, \"你是谁\", history=history)\n",
    "print(response)"
   ]
  },
  {
   "cell_type": "code",
   "execution_count": 10,
   "id": "eb424db7",
   "metadata": {},
   "outputs": [
    {
     "name": "stdout",
     "output_type": "stream",
     "text": [
      "以下是我推荐的几本<UNK>的<UNK>，希望对您有帮助<UNK>。<UNK>的《<UNK>与<UNK>的<UNK>》<UNK>，是一本关于计算机网络的书籍，全面而深入地介绍了网络的原理、网络协议、网络安全以及网络编程等知识。<UNK>的《计算机<UNK>与<UNK>的<UNK>与<UNK>》<UNK>，是一本关于计算机编程的书籍，全面而系统地介绍了编程的<UNK>、算法和数据结构等知识。<UNK>的《计算机<UNK>与<UNK>的<UNK>与<UNK>与<UNK>与<UNK>》<UNK>，是一本关于计算机编程基础的书籍，从<UNK>的<UNK>、<UNK>与<UNK>、<UNK>与<UNK>与<UNK>、<UNK>与<UNK>与<UNK>等多方面内容，全面地介绍了编程的<UNK>与<UNK>。\n"
     ]
    }
   ],
   "source": [
    "response, history = model.chat(tokenizer, \"请您推荐一下C++的学习书籍\", history=history)\n",
    "print(response)"
   ]
  },
  {
   "cell_type": "code",
   "execution_count": null,
   "id": "2b89160d",
   "metadata": {},
   "outputs": [],
   "source": []
  }
 ],
 "metadata": {
  "kernelspec": {
   "display_name": "Python 3 (ipykernel)",
   "language": "python",
   "name": "python3"
  },
  "language_info": {
   "codemirror_mode": {
    "name": "ipython",
    "version": 3
   },
   "file_extension": ".py",
   "mimetype": "text/x-python",
   "name": "python",
   "nbconvert_exporter": "python",
   "pygments_lexer": "ipython3",
   "version": "3.10.10"
  }
 },
 "nbformat": 4,
 "nbformat_minor": 5
}
