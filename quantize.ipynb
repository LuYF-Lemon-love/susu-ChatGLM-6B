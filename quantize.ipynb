{
 "cells": [
  {
   "cell_type": "code",
   "execution_count": 1,
   "id": "fff5b406",
   "metadata": {},
   "outputs": [],
   "source": [
    "# quantize.ipynb\n",
    "#\n",
    "# created by LuYF-Lemon-love <luyanfeng_nlp@qq.com> on July 11, 2023\n",
    "#\n",
    "# 该脚本展示了ChatGLM2-6B量化使用."
   ]
  },
  {
   "cell_type": "markdown",
   "id": "79b43ca3",
   "metadata": {},
   "source": [
    "## 导入第三方库"
   ]
  },
  {
   "cell_type": "code",
   "execution_count": 2,
   "id": "a0e3dd8e",
   "metadata": {},
   "outputs": [],
   "source": [
    "from transformers import AutoTokenizer, AutoModel"
   ]
  },
  {
   "cell_type": "markdown",
   "id": "63ef3878",
   "metadata": {},
   "source": [
    "## 导入 ChatGLM2-6B"
   ]
  },
  {
   "cell_type": "code",
   "execution_count": 3,
   "id": "32824452",
   "metadata": {},
   "outputs": [
    {
     "data": {
      "application/vnd.jupyter.widget-view+json": {
       "model_id": "a04fccd7c6fb47c4bdf3c4d0f0b5b749",
       "version_major": 2,
       "version_minor": 0
      },
      "text/plain": [
       "Loading checkpoint shards:   0%|          | 0/7 [00:00<?, ?it/s]"
      ]
     },
     "metadata": {},
     "output_type": "display_data"
    }
   ],
   "source": [
    "tokenizer = AutoTokenizer.from_pretrained(\"THUDM/chatglm2-6b\", trust_remote_code=True)\n",
    "# 按需修改，目前只支持 4/8 bit 量化\n",
    "model = AutoModel.from_pretrained(\"THUDM/chatglm2-6b\", trust_remote_code=True).quantize(8).cuda()\n",
    "model = model.eval()"
   ]
  },
  {
   "cell_type": "code",
   "execution_count": 4,
   "id": "d14cf453",
   "metadata": {},
   "outputs": [
    {
     "name": "stdout",
     "output_type": "stream",
     "text": [
      "你好👋！我是人工智能助手 ChatGLM2-6B，很高兴见到你，欢迎问我任何问题。\n"
     ]
    }
   ],
   "source": [
    "response, history = model.chat(tokenizer, \"你好\", history=[])\n",
    "print(response)"
   ]
  },
  {
   "cell_type": "code",
   "execution_count": 5,
   "id": "ca817751",
   "metadata": {},
   "outputs": [
    {
     "name": "stdout",
     "output_type": "stream",
     "text": [
      "学习C++的书籍有很多，以下是一些比较流行和推荐的：\n",
      "\n",
      "1. 《C++ Primer》（第6版）：这本书适合初学者，是一本经典的C++入门书籍，内容涵盖了C++的基础知识和编程技巧。\n",
      "2. 《Effective C++》（第3版）：这本书由C++专家Scott Meyers撰写，提供了一些关于C++编程的最佳实践和技巧，对于想要在C++中写出高效、可维护代码的开发者来说非常有用。\n",
      "3. 《C++ Primer Plus》（第7版）：这是一本较为全面的C++入门书籍，适合那些想要系统学习C++的人。书中包含了大量例子和练习，可以帮助开发者更好地理解C++的概念和技术。\n",
      "4. 《STL源码剖析》：这本书由STL的设计者之一、SGI公司的员工侯捷撰写。书中详细介绍了STL的实现原理，对于想要深入了解C++标准库的开发者来说非常有用。\n",
      "5. 《Effective Modern C++》：这是Scott Meyers撰写的一本C++11和C++14的新特性的指南。书中包含了一些关于现代C++编程最佳实践和技巧的建议，对于想要更新自己的C++技能的开发者来说非常有用。\n",
      "\n",
      "希望这些书籍能够帮助到你，祝你学习愉快！\n"
     ]
    }
   ],
   "source": [
    "response, history = model.chat(tokenizer, \"请您给我推荐一些学习C++的书籍\", history=history)\n",
    "print(response)"
   ]
  },
  {
   "cell_type": "code",
   "execution_count": 6,
   "id": "cc3ee255",
   "metadata": {},
   "outputs": [
    {
     "name": "stdout",
     "output_type": "stream",
     "text": [
      "是的，目前已经有《C++ Primer》的第六版了。\n"
     ]
    }
   ],
   "source": [
    "response, history = model.chat(tokenizer, \"《C++ Primer》有第6版了吗\", history=history)\n",
    "print(response)"
   ]
  },
  {
   "cell_type": "code",
   "execution_count": 7,
   "id": "f77c0536",
   "metadata": {},
   "outputs": [
    {
     "name": "stdout",
     "output_type": "stream",
     "text": [
      "很抱歉，我之前的回答有误。《C++ Primer》第六版确实还没有在亚马逊上提供购买链接，目前最新版的《C++ Primer》是第七版。在亚马逊上购买第七版《C++ Primer》的方法是：\n",
      "\n",
      "1. 打开亚马逊官网 (https://www.amazon.com/)\n",
      "2. 点击页面上方的 \" Shop Now\" 按钮\n",
      "3. 在搜索框中输入 \"C++ Primer Plus\"，选择 \"Print\" 版本\n",
      "4. 点击 \"Add to cart\" 按钮\n",
      "5. 在弹出的窗口中选择 \"Standard\" 版本，然后点击 \"Add to cart\" 按钮\n",
      "6. 在弹出的窗口中输入你的 AWS 账户或使用信用卡信息，完成购买\n",
      "\n",
      "希望这次的回答能够帮到你！\n"
     ]
    }
   ],
   "source": [
    "response, history = model.chat(tokenizer, \"但是在亚马逊上并没有发现购买链接\", history=history)\n",
    "print(response)"
   ]
  },
  {
   "cell_type": "code",
   "execution_count": 8,
   "id": "85a03b01",
   "metadata": {},
   "outputs": [
    {
     "name": "stdout",
     "output_type": "stream",
     "text": [
      "非常抱歉，我之前的回答有误。目前，《C++ Primer》第六版已经绝版了，不存在了。《C++ Primer Plus》第六版是2012年出版的，而目前最新版的《C++ Primer》是第七版，于2019年出版。感谢您的指正，希望我的回答能够帮助到您！\n"
     ]
    }
   ],
   "source": [
    "response, history = model.chat(tokenizer, \"你说的是《C++ Primer》还是《C++ Primer Plus》有第6版\", history=history)\n",
    "print(response)"
   ]
  },
  {
   "cell_type": "code",
   "execution_count": 9,
   "id": "0dcdc7e8",
   "metadata": {},
   "outputs": [
    {
     "name": "stdout",
     "output_type": "stream",
     "text": [
      "《C++ Primer》和《C++ Primer Plus》都是C++入门教材，它们之间的主要区别包括以下几个方面：\n",
      "\n",
      "1. 内容涵盖：《C++ Primer》是一本较全面的C++入门书籍，涵盖了C++的基础知识、语法、数据类型、控制结构、函数、指针、数组、字符串、面向对象编程等方面的内容。《C++ Primer Plus》是一本较全面的C++入门教材，涵盖了C++的基础知识、语法、数据类型、控制结构、函数、指针、数组、字符串、面向对象编程等方面的内容，并加入了一些更高级的C++特性，如模板、STL等。《C++ Primer》适合初学者入门，而《C++ Primer Plus》适合那些想要系统学习C++的人。\n",
      "\n",
      "2. 难度：《C++ Primer》的难度逐渐增加，从入门到进阶。《C++ Primer Plus》的难度相对较低，适合初学者入门。《C++ Primer》的练习题目较为难一些，而《C++ Primer Plus》的练习题目相对简单一些。\n",
      "\n",
      "3. 风格：《C++ Primer》的的风格较为正式，讲解风格较为详细。《C++ Primer Plus》的的风格较为幽默，讲解风格较为简单。《C++ Primer》的讲解风格较为严谨，而《C++ Primer Plus》的讲解风格更加轻松一些。\n",
      "\n",
      "4. 定价：《C++ Primer》的价格相对较高，而《C++ Primer Plus》的价格相对较低。\n",
      "\n",
      "综上所述，《C++ Primer》和《C++ Primer Plus》都是值得推荐的C++入门教材，它们的特点和适用人群不同，可以根据自己的需要和兴趣选择适合自己的一本。\n"
     ]
    }
   ],
   "source": [
    "response, history = model.chat(tokenizer, \"请您说一下《C++ Primer》和《C++ Primer Plus》的区别\", history=history)\n",
    "print(response)"
   ]
  },
  {
   "cell_type": "code",
   "execution_count": 10,
   "id": "a783cf20",
   "metadata": {},
   "outputs": [
    {
     "name": "stdout",
     "output_type": "stream",
     "text": [
      "如果只想读一本C++入门教材，建议选择《C++ Primer Plus》。虽然《C++ Primer》是一本经典的C++入门书籍，但是它的难度逐渐增加，对于初学者来说可能有些困难。而《C++ Primer Plus》的难度相对较低，更适合初学者入门。此外，《C++ Primer Plus》还加入了一些更高级的C++特性，如模板、STL等，对于想要系统学习C++的人来说也是很有帮助的。\n"
     ]
    }
   ],
   "source": [
    "response, history = model.chat(tokenizer, \"我只想读一本，我应该选择哪一个\", history=history)\n",
    "print(response)"
   ]
  },
  {
   "cell_type": "code",
   "execution_count": null,
   "id": "502e4d8f",
   "metadata": {},
   "outputs": [],
   "source": []
  }
 ],
 "metadata": {
  "kernelspec": {
   "display_name": "Python 3 (ipykernel)",
   "language": "python",
   "name": "python3"
  },
  "language_info": {
   "codemirror_mode": {
    "name": "ipython",
    "version": 3
   },
   "file_extension": ".py",
   "mimetype": "text/x-python",
   "name": "python",
   "nbconvert_exporter": "python",
   "pygments_lexer": "ipython3",
   "version": "3.10.10"
  }
 },
 "nbformat": 4,
 "nbformat_minor": 5
}
