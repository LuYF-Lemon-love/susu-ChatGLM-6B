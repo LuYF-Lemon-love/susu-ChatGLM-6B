{
 "cells": [
  {
   "cell_type": "code",
   "execution_count": 1,
   "id": "87bc806e",
   "metadata": {},
   "outputs": [],
   "source": [
    "# cpu.ipynb\n",
    "#\n",
    "# created by LuYF-Lemon-love <luyanfeng_nlp@qq.com> on July 11, 2023\n",
    "#\n",
    "# 该脚本展示了ChatGLM2-6B CPU部署."
   ]
  },
  {
   "cell_type": "markdown",
   "id": "5d6e6ad0",
   "metadata": {},
   "source": [
    "## 导入第三方库"
   ]
  },
  {
   "cell_type": "code",
   "execution_count": 2,
   "id": "6147049a",
   "metadata": {},
   "outputs": [],
   "source": [
    "from transformers import AutoTokenizer, AutoModel"
   ]
  },
  {
   "cell_type": "markdown",
   "id": "e552603b",
   "metadata": {},
   "source": [
    "## 导入 ChatGLM2-6B"
   ]
  },
  {
   "cell_type": "code",
   "execution_count": 3,
   "id": "98722884",
   "metadata": {},
   "outputs": [
    {
     "data": {
      "application/vnd.jupyter.widget-view+json": {
       "model_id": "ed5d4be8256243a8afe6ef7340340f0d",
       "version_major": 2,
       "version_minor": 0
      },
      "text/plain": [
       "Loading checkpoint shards:   0%|          | 0/7 [00:00<?, ?it/s]"
      ]
     },
     "metadata": {},
     "output_type": "display_data"
    }
   ],
   "source": [
    "tokenizer = AutoTokenizer.from_pretrained(\"THUDM/chatglm2-6b\", trust_remote_code=True)\n",
    "model = AutoModel.from_pretrained(\"THUDM/chatglm2-6b\", trust_remote_code=True).float()\n",
    "model = model.eval()"
   ]
  },
  {
   "cell_type": "code",
   "execution_count": 4,
   "id": "8bf2e10a",
   "metadata": {},
   "outputs": [
    {
     "name": "stdout",
     "output_type": "stream",
     "text": [
      "你好👋！我是人工智能助手 ChatGLM2-6B，很高兴见到你，欢迎问我任何问题。\n"
     ]
    }
   ],
   "source": [
    "response, history = model.chat(tokenizer, \"你好\", history=[])\n",
    "print(response)"
   ]
  },
  {
   "cell_type": "code",
   "execution_count": 5,
   "id": "5adcab9a",
   "metadata": {},
   "outputs": [
    {
     "name": "stdout",
     "output_type": "stream",
     "text": [
      "学习C++的书籍有很多，以下是一些比较流行和推荐的：\n",
      "\n",
      "1. 《C++ Primer》（第五版）：这本书适合初学者，它具有全面性、易于理解、代码简洁等特点，适合初学者快速入门。\n",
      "2. 《Effective C++》（第三版）：这本书由C++专家Scott Meyers撰写，提供关于C++编程的最佳实践和技巧，对于想要在C++中写出高效、可维护代码的开发者来说非常有用。\n",
      "3. 《C++ Primer Plus》（第六版）：这是一本较为全面的C++入门书籍，适合那些想要系统学习C++的人。\n",
      "4. 《STL源码剖析》：这本书由STL的设计者之一、SGI公司的员工侯捷撰写。深入讲解了STL的实现原理，让读者能够深入了解STL的设计思路和实现方法。\n",
      "5. 《Effective Modern C++》：这是Scott Meyers撰写的一本大家都在使用的C++11和C++14的新特性的指南。\n",
      "\n",
      "你可以根据自己的需求和水平选择适合自己的一本或多本书籍。\n"
     ]
    }
   ],
   "source": [
    "response, history = model.chat(tokenizer, \"请您给我推荐一下学习C++的书籍\", history=history)\n",
    "print(response)"
   ]
  },
  {
   "cell_type": "code",
   "execution_count": null,
   "id": "d8f59617",
   "metadata": {},
   "outputs": [],
   "source": []
  }
 ],
 "metadata": {
  "kernelspec": {
   "display_name": "Python 3 (ipykernel)",
   "language": "python",
   "name": "python3"
  },
  "language_info": {
   "codemirror_mode": {
    "name": "ipython",
    "version": 3
   },
   "file_extension": ".py",
   "mimetype": "text/x-python",
   "name": "python",
   "nbconvert_exporter": "python",
   "pygments_lexer": "ipython3",
   "version": "3.10.10"
  }
 },
 "nbformat": 4,
 "nbformat_minor": 5
}
